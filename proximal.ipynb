{
 "cells": [
  {
   "attachments": {},
   "cell_type": "markdown",
   "metadata": {},
   "source": [
    "# Proximal Causal Inference Implementation\n",
    "The following code implements recovering the average causal effect between a treatment A on an outcome Y in the proximal causal inference setup where W and Z are proxies of U by fitting two linear regressions. Here, U, W, and Z are binary variables, so the first model is a linear logistic regression. On the other hand, Y is a continuous variable, so the second model is a normal linear logistic regression."
   ]
  },
  {
   "cell_type": "code",
   "execution_count": 30,
   "metadata": {},
   "outputs": [
    {
     "name": "stdout",
     "output_type": "stream",
     "text": [
      "0.6007\n"
     ]
    }
   ],
   "source": [
    "import pandas as pd\n",
    "import numpy as np\n",
    "from scipy.special import expit\n",
    "import statsmodels.api as sm\n",
    "\n",
    "np.random.seed(0)\n",
    "size = 10000\n",
    "verbose = True\n",
    "\n",
    "# U = np.random.normal(0, 1, size)\n",
    "U = np.random.binomial(1, 0.48, size)\n",
    "\n",
    "# W = np.random.normal(0, 1, size) + 1.3*U\n",
    "W = np.random.binomial(1, expit(1.3*U), size)\n",
    "\n",
    "# Z = np.random.normal(0, 1, size) + 2*U\n",
    "Z = np.random.binomial(1, expit(2*U), size)\n",
    "\n",
    "A = np.random.binomial(1, expit(0.8*U), size)\n",
    "if verbose:\n",
    "    print(np.mean(A))\n",
    "\n",
    "Y = np.random.normal(0, 1, size) + 1.3*A + 1.4*U\n",
    "\n",
    "data = pd.DataFrame({\"U\": U, \"W\": W, \"A\": A, \"Y\": Y, \"Z\": Z})"
   ]
  },
  {
   "cell_type": "code",
   "execution_count": 32,
   "metadata": {},
   "outputs": [
    {
     "name": "stdout",
     "output_type": "stream",
     "text": [
      "Intercept    0.061537\n",
      "A            0.204127\n",
      "Z            0.505602\n",
      "dtype: float64\n",
      "1.3468085291324319\n"
     ]
    }
   ],
   "source": [
    "# fit a model W~A+Z\n",
    "model1 = sm.GLM.from_formula(formula=\"W~A+Z\", data=data, family=sm.families.Binomial()).fit()\n",
    "print(model1.params)\n",
    "\n",
    "What = model1.predict(data)\n",
    "data[\"What\"] = What\n",
    "\n",
    "model2 = sm.GLM.from_formula(formula=\"Y~A+What\", data=data, family=sm.families.Gaussian()).fit()\n",
    "print(model2.params[1])"
   ]
  }
 ],
 "metadata": {
  "kernelspec": {
   "display_name": "Python 3",
   "language": "python",
   "name": "python3"
  },
  "language_info": {
   "codemirror_mode": {
    "name": "ipython",
    "version": 3
   },
   "file_extension": ".py",
   "mimetype": "text/x-python",
   "name": "python",
   "nbconvert_exporter": "python",
   "pygments_lexer": "ipython3",
   "version": "3.10.11"
  },
  "orig_nbformat": 4
 },
 "nbformat": 4,
 "nbformat_minor": 2
}
